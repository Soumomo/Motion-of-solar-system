{
 "cells": [
  {
   "cell_type": "code",
   "execution_count": 16,
   "metadata": {},
   "outputs": [],
   "source": [
    "from astropy.io import fits\n",
    "import matplotlib.pyplot as plt\n",
    "import numpy as np\n",
    "from scipy.constants import h,c,k"
   ]
  },
  {
   "cell_type": "code",
   "execution_count": 17,
   "metadata": {},
   "outputs": [
    {
     "name": "stdout",
     "output_type": "stream",
     "text": [
      "Filename: /home/soumadip/Downloads/FIRAS_DESTRIPED_SKY_SPECTRA_LOWF.FITS\n",
      "No.    Name      Ver    Type      Cards   Dimensions   Format\n",
      "  0  PRIMARY       1 PrimaryHDU      63   ()      \n",
      "  1                1 BinTableHDU     44   6067R x 6C   [1J, 1E, 1E, 1E, 1I, 182E]   \n"
     ]
    }
   ],
   "source": [
    "hdu2=fits.open('/home/soumadip/Downloads/FIRAS_DESTRIPED_SKY_SPECTRA_LOWF.FITS')\n",
    "hdu2.info()"
   ]
  },
  {
   "attachments": {},
   "cell_type": "markdown",
   "metadata": {},
   "source": [
    "#### Contents of the dataset"
   ]
  },
  {
   "cell_type": "code",
   "execution_count": 18,
   "metadata": {},
   "outputs": [
    {
     "data": {
      "text/plain": [
       "ColDefs(\n",
       "    name = 'PIXEL'; format = '1J'\n",
       "    name = 'GAL_LON'; format = '1E'; unit = 'deg'\n",
       "    name = 'GAL_LAT'; format = '1E'; unit = 'deg'\n",
       "    name = 'WEIGHT'; format = '1E'\n",
       "    name = 'STR_USED'; format = '1I'\n",
       "    name = 'SPECTRUM'; format = '182E'; unit = 'MJy/sr'; dim = '(182)'\n",
       ")"
      ]
     },
     "execution_count": 18,
     "metadata": {},
     "output_type": "execute_result"
    }
   ],
   "source": [
    "destriped_data=hdu2[1].data\n",
    "destriped_data.columns"
   ]
  },
  {
   "attachments": {},
   "cell_type": "markdown",
   "metadata": {},
   "source": [
    "#### Getting best fit temperatures for every pixel"
   ]
  },
  {
   "attachments": {},
   "cell_type": "markdown",
   "metadata": {},
   "source": [
    "It is observed that all the pixels only have 43 intensity values. This makes our job much easier"
   ]
  },
  {
   "cell_type": "code",
   "execution_count": null,
   "metadata": {},
   "outputs": [],
   "source": [
    "c_cms=100*c\n",
    "from scipy.optimize import curve_fit\n",
    "def Intensity(wave_num,T):\n",
    "    return 2*np.pi*h*(wave_num)**3*c_cms**2/(np.exp(h*c_cms*(wave_num)/(k*T))-1)*1e13\n",
    "    '''\n",
    "    h = planck constant\n",
    "    k = boltzmann constant\n",
    "    c = speed of light in vacuum\n",
    "    T = temperature of blackbody\n",
    "    wave_num = wave number of the radiation (1/wavelength)\n",
    "    '''"
   ]
  },
  {
   "cell_type": "code",
   "execution_count": 24,
   "metadata": {},
   "outputs": [
    {
     "data": {
      "text/plain": [
       "43"
      ]
     },
     "execution_count": 24,
     "metadata": {},
     "output_type": "execute_result"
    }
   ],
   "source": [
    "# 1st frequency is 68.020812 Ghz\n",
    "freq_0=68.020812*1e9\n",
    "freq_interval=13.604162*1e9\n",
    "\n",
    "#wave number is freq/c. there are 43 total values measured with this interval\n",
    "\n",
    "wave_number=[]\n",
    "for i in range(43):\n",
    "    freq_flag=freq_0+i*freq_interval\n",
    "    wave_number.append(freq_flag/c_cms)\n",
    "wave_number=np.array(wave_number)"
   ]
  },
  {
   "cell_type": "code",
   "execution_count": 25,
   "metadata": {},
   "outputs": [],
   "source": [
    "\n",
    "def get_Temperature(wave_number,input):\n",
    "    Pixel_data=dict()\n",
    "    Pixel_data['Temperature']=[]\n",
    "    Pixel_data['Uncertainty']=[]\n",
    "    for i in range(len(input)):\n",
    "        Intensity_observed=input[i]\n",
    "        Intensity_observed=Intensity_observed[0:43:]\n",
    "        T0=1\n",
    "        popt,pcov=curve_fit(Intensity,wave_number,Intensity_observed,p0=[T0])\n",
    "        Temperature_fit=popt[0]\n",
    "        Uncertainty_fit=np.sqrt(np.diag(pcov))\n",
    "        Pixel_data['Temperature'].append(Temperature_fit)\n",
    "        Pixel_data['Uncertainty'].append(Uncertainty_fit)\n",
    "    return Pixel_data\n"
   ]
  },
  {
   "cell_type": "code",
   "execution_count": 26,
   "metadata": {},
   "outputs": [],
   "source": [
    "Pixel_data=get_Temperature(wave_number,destriped_data['SPECTRUM'])\n"
   ]
  },
  {
   "cell_type": "code",
   "execution_count": 31,
   "metadata": {},
   "outputs": [
    {
     "name": "stdout",
     "output_type": "stream",
     "text": [
      "T = 2.772 + 0.003 K\n"
     ]
    }
   ],
   "source": [
    "avg_temperature=np.sum(Pixel_data['Temperature'])/len(Pixel_data['Temperature'])\n",
    "avg_uncertainty=np.sum(Pixel_data['Uncertainty'])/len(Pixel_data['Uncertainty'])\n",
    "print('T = {:.3f} + {:.3f} K'.format(avg_temperature,avg_uncertainty))"
   ]
  },
  {
   "attachments": {},
   "cell_type": "markdown",
   "metadata": {},
   "source": [
    "This is far from the given value . We need to remove the galactic contamination it seems\n"
   ]
  },
  {
   "cell_type": "code",
   "execution_count": 37,
   "metadata": {},
   "outputs": [
    {
     "data": {
      "text/plain": [
       "(5013, 182)"
      ]
     },
     "execution_count": 37,
     "metadata": {},
     "output_type": "execute_result"
    }
   ],
   "source": [
    "lattitude = destriped_data['GAL_LAT']\n",
    "Intensity_observed = destriped_data['SPECTRUM']\n",
    "\n",
    "i=[]\n",
    "accepted_spectrum=[]\n",
    "\n",
    "for i in range(0,len(lattitude)):\n",
    "    if -10 < lattitude[i] < 10:\n",
    "        continue\n",
    "    else:\n",
    "        accepted_spectrum.append(Intensity_observed[i])\n",
    "spectrum_cut=np.array(accepted_spectrum)\n",
    "spectrum_cut.shape"
   ]
  },
  {
   "cell_type": "code",
   "execution_count": 35,
   "metadata": {},
   "outputs": [
    {
     "data": {
      "text/plain": [
       "2.770233291707014"
      ]
     },
     "execution_count": 35,
     "metadata": {},
     "output_type": "execute_result"
    }
   ],
   "source": [
    "def get_temp(wave_number,input):\n",
    "    T=[]\n",
    "    for i in range(len(input)):\n",
    "        Intensity_observed=input[i]\n",
    "        Intensity_observed=Intensity_observed[0:43:]\n",
    "        T0=2\n",
    "        popt,pcov=curve_fit(Intensity,wave_number,Intensity_observed,T0)\n",
    "        k=popt[0]\n",
    "        T.append(k)\n",
    "    return T\n",
    "\n",
    "temperature_cut = get_temp(wave_number,spectrum_cut)\n",
    "sum(temperature_cut)/len(temperature_cut)"
   ]
  }
 ],
 "metadata": {
  "kernelspec": {
   "display_name": "base",
   "language": "python",
   "name": "python3"
  },
  "language_info": {
   "codemirror_mode": {
    "name": "ipython",
    "version": 3
   },
   "file_extension": ".py",
   "mimetype": "text/x-python",
   "name": "python",
   "nbconvert_exporter": "python",
   "pygments_lexer": "ipython3",
   "version": "3.10.9"
  },
  "orig_nbformat": 4
 },
 "nbformat": 4,
 "nbformat_minor": 2
}
